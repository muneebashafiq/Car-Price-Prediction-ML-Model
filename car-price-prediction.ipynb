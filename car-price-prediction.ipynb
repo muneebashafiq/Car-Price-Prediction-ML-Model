{
 "cells": [
  {
   "cell_type": "code",
   "execution_count": 3,
   "id": "961ae0c9",
   "metadata": {},
   "outputs": [
    {
     "name": "stdout",
     "output_type": "stream",
     "text": [
      "Random Forest - MAE: 118906.98, RMSE: 362611.62, \n",
      "Gradient Boosting - MAE: 168818.93, RMSE: 375402.55\n",
      "Random Forest - Cross-Validation RMSE: 283046.99\n",
      "Gradient Boosting - Cross-Validation RMSE: 314243.61\n"
     ]
    }
   ],
   "source": [
    "import pandas as pd\n",
    "import numpy as np\n",
    "from sklearn.model_selection import train_test_split, cross_val_score\n",
    "from sklearn.preprocessing import StandardScaler\n",
    "from sklearn.ensemble import RandomForestRegressor, GradientBoostingRegressor\n",
    "from sklearn.pipeline import Pipeline\n",
    "from sklearn.compose import ColumnTransformer\n",
    "from sklearn.impute import SimpleImputer\n",
    "from sklearn.metrics import mean_absolute_error, mean_squared_error\n",
    "\n",
    "# load  dataset\n",
    "data = pd.read_csv('CAR DETAILS FROM CAR DEKHO.csv')\n",
    "\n",
    "# creating a new feature 'car_age' \n",
    "data['car_age'] = 2024 - data['year']\n",
    "\n",
    "# drop the 'year' column as it is now redundant\n",
    "data = data.drop(columns=['year'])\n",
    "\n",
    "# convert categorical features to numerical using one-hot encoding\n",
    "data = pd.get_dummies(data, columns=['name', 'fuel', 'seller_type', 'transmission', 'owner'], drop_first=True)\n",
    "\n",
    "# define feature columns and target column\n",
    "features = data.drop(columns=['selling_price'])\n",
    "target = data['selling_price']\n",
    "\n",
    "# split the data into training and testing \n",
    "X_train, X_test, y_train, y_test = train_test_split(features, target, test_size=0.2, random_state=42)\n",
    "\n",
    "# Define numeric features\n",
    "numeric_features = ['km_driven', 'car_age']\n",
    "\n",
    "# define the preprocessing steps\n",
    "numeric_transformer = Pipeline(steps=[\n",
    "    ('imputer', SimpleImputer(strategy='median')),\n",
    "    ('scaler', StandardScaler())\n",
    "])\n",
    "\n",
    "preprocessor = ColumnTransformer(\n",
    "    transformers=[\n",
    "        ('num', numeric_transformer, numeric_features)\n",
    "    ], remainder='passthrough')\n",
    "\n",
    "# define the Random Forest model pipeline\n",
    "rf_pipeline = Pipeline(steps=[('preprocessor', preprocessor),\n",
    "                              ('model', RandomForestRegressor())])\n",
    "\n",
    "# define the Gradient Boosting model pipeline\n",
    "gb_pipeline = Pipeline(steps=[('preprocessor', preprocessor),\n",
    "                              ('model', GradientBoostingRegressor())])\n",
    "\n",
    "# train and test Random Forest model\n",
    "rf_pipeline.fit(X_train, y_train)\n",
    "y_pred_rf = rf_pipeline.predict(X_test)\n",
    "mae_rf = mean_absolute_error(y_test, y_pred_rf)\n",
    "rmse_rf = np.sqrt(mean_squared_error(y_test, y_pred_rf))\n",
    "print(f\"Random Forest - MAE: {mae_rf:.2f}, RMSE: {rmse_rf:.2f}, \")\n",
    "\n",
    "# train and test Gradient Boosting model\n",
    "gb_pipeline.fit(X_train, y_train)\n",
    "y_pred_gb = gb_pipeline.predict(X_test)\n",
    "mae_gb = mean_absolute_error(y_test, y_pred_gb)\n",
    "rmse_gb = np.sqrt(mean_squared_error(y_test, y_pred_gb))\n",
    "print(f\"Gradient Boosting - MAE: {mae_gb:.2f}, RMSE: {rmse_gb:.2f}\")\n",
    "\n",
    "# cross-validation for Random Forest\n",
    "cv_scores_rf = cross_val_score(rf_pipeline, features, target, cv=5, scoring='neg_mean_squared_error')\n",
    "cv_rmse_rf = np.sqrt(-cv_scores_rf).mean()\n",
    "print(f\"Random Forest - Cross-Validation RMSE: {cv_rmse_rf:.2f}\")\n",
    "\n",
    "# cross-validation for Gradient Boosting\n",
    "cv_scores_gb = cross_val_score(gb_pipeline, features, target, cv=5, scoring='neg_mean_squared_error')\n",
    "cv_rmse_gb = np.sqrt(-cv_scores_gb).mean()\n",
    "print(f\"Gradient Boosting - Cross-Validation RMSE: {cv_rmse_gb:.2f}\")\n"
   ]
  },
  {
   "cell_type": "code",
   "execution_count": null,
   "id": "f8ac432a",
   "metadata": {},
   "outputs": [],
   "source": []
  }
 ],
 "metadata": {
  "kernelspec": {
   "display_name": "Python 3 (ipykernel)",
   "language": "python",
   "name": "python3"
  },
  "language_info": {
   "codemirror_mode": {
    "name": "ipython",
    "version": 3
   },
   "file_extension": ".py",
   "mimetype": "text/x-python",
   "name": "python",
   "nbconvert_exporter": "python",
   "pygments_lexer": "ipython3",
   "version": "3.11.5"
  }
 },
 "nbformat": 4,
 "nbformat_minor": 5
}
